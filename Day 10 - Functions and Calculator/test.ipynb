{
 "metadata": {
  "language_info": {
   "codemirror_mode": {
    "name": "ipython",
    "version": 3
   },
   "file_extension": ".py",
   "mimetype": "text/x-python",
   "name": "python",
   "nbconvert_exporter": "python",
   "pygments_lexer": "ipython3",
   "version": "3.7.9"
  },
  "orig_nbformat": 2,
  "kernelspec": {
   "name": "python379jvsc74a57bd0911aabb288a2c68f504de42bfb4c274e1d2292c3685b49c701ead7f4f1082567",
   "display_name": "Python 3.7.9 64-bit"
  }
 },
 "nbformat": 4,
 "nbformat_minor": 2,
 "cells": [
  {
   "cell_type": "code",
   "execution_count": 25,
   "metadata": {},
   "outputs": [],
   "source": [
    "def is_leap(year):    \n",
    "    if year % 4 == 0 and year % 100 != 0:\n",
    "        return True\n",
    "\n",
    "    elif year % 4 == 0 and year % 100 == 0:    \n",
    "        if year % 400 == 0:\n",
    "            return True\n",
    "        else:\n",
    "            return False\n",
    "\n",
    "    else:\n",
    "        return False\n",
    "\n",
    "\n",
    "def days_in_month(year, month):\n",
    "    month_days = [31, 28, 31, 30, 31, 30, 31, 31, 30, 31, 30, 31]\n",
    "    months = ['january', 'february', 'march', 'april', 'may','june',\n",
    "    'july','august', 'september', 'october', 'november', 'december'] \n",
    "    leap = is_leap(year)\n",
    "    if leap == True:\n",
    "        if month == 'february':\n",
    "            index = months.index(month)\n",
    "            return month_days[index] + 1\n",
    "        else:\n",
    "            index = months.index(month)\n",
    "            return month_days[index]\n",
    "\n",
    "    \n",
    "    else:\n",
    "        index = months.index(month)\n",
    "        return month_days[index]\n",
    "\n"
   ]
  },
  {
   "cell_type": "code",
   "execution_count": 29,
   "metadata": {},
   "outputs": [
    {
     "output_type": "execute_result",
     "data": {
      "text/plain": [
       "31"
      ]
     },
     "metadata": {},
     "execution_count": 29
    }
   ],
   "source": [
    "days_in_month(year= 2009, month='march')"
   ]
  },
  {
   "cell_type": "code",
   "execution_count": 19,
   "metadata": {},
   "outputs": [
    {
     "output_type": "stream",
     "name": "stdout",
     "text": [
      "30\n"
     ]
    }
   ],
   "source": [
    "month_days = [31, 28, 31, 30, 31, 30, 31, 31, 30, 31, 30, 31]\n",
    "months = ['january', 'february', 'march', 'april', 'may','june',\n",
    "    'july','august', 'september', 'october', 'november', 'december']\n",
    "year = 2002\n",
    "monthe = 'june'\n",
    "\n",
    "leap = is_leap(year)\n",
    "\n",
    "if leap == True:\n",
    "    if monthe == 'february':\n",
    "        index = months.index('february')\n",
    "        print(month_days[index] + 1)\n",
    "    else:\n",
    "        index = months.index(monthe)\n",
    "        print(month_days[index])\n",
    "\n",
    "    \n",
    "else:\n",
    "    index = months.index(monthe)\n",
    "    print(month_days[index])\n",
    "\n",
    "\n",
    "\n",
    "    \n"
   ]
  },
  {
   "cell_type": "code",
   "execution_count": null,
   "metadata": {},
   "outputs": [],
   "source": []
  }
 ]
}